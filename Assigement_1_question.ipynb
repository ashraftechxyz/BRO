{
  "nbformat": 4,
  "nbformat_minor": 0,
  "metadata": {
    "colab": {
      "provenance": [],
      "collapsed_sections": [
        "hGY8p0cSXAxa",
        "9xSr-nwqKDVO",
        "a34scDh9UyAj",
        "yDrFNN2vbZp4"
      ],
      "authorship_tag": "ABX9TyOtkfnIIzaHpomEH/3NkxG1",
      "include_colab_link": true
    },
    "kernelspec": {
      "name": "python3",
      "display_name": "Python 3"
    },
    "language_info": {
      "name": "python"
    }
  },
  "cells": [
    {
      "cell_type": "markdown",
      "metadata": {
        "id": "view-in-github",
        "colab_type": "text"
      },
      "source": [
        "<a href=\"https://colab.research.google.com/github/ashraftechxyz/BRO/blob/main/Assigement_1_question.ipynb\" target=\"_parent\"><img src=\"https://colab.research.google.com/assets/colab-badge.svg\" alt=\"Open In Colab\"/></a>"
      ]
    },
    {
      "cell_type": "markdown",
      "source": [
        "# **BASIC LEVEL QUESTIONS**"
      ],
      "metadata": {
        "id": "hGY8p0cSXAxa"
      }
    },
    {
      "cell_type": "code",
      "source": [
        "\n",
        "# question no 1\n",
        "x = 40\n",
        "y = 50\n",
        "x = (x + y)\n",
        "y = (y - x)\n",
        "print(\"x = \" ,  x)\n",
        "print(\"y = \" ,  y)"
      ],
      "metadata": {
        "colab": {
          "base_uri": "https://localhost:8080/"
        },
        "id": "FlKbR_W8pfb_",
        "outputId": "745979e4-dbcb-4894-d9f1-a45245298db7"
      },
      "execution_count": null,
      "outputs": [
        {
          "output_type": "stream",
          "name": "stdout",
          "text": [
            "x =  90\n",
            "y =  -40\n"
          ]
        }
      ]
    },
    {
      "cell_type": "code",
      "source": [
        "x = 5\n",
        "y = 10\n",
        "x+=1\n",
        "y-=1\n",
        "print(\"x = \" ,  x)\n",
        "print(\"y = \" ,  y)"
      ],
      "metadata": {
        "colab": {
          "base_uri": "https://localhost:8080/"
        },
        "id": "FB7k-qqpp0V6",
        "outputId": "6db37f37-3f98-4672-9656-940689b12688"
      },
      "execution_count": null,
      "outputs": [
        {
          "output_type": "stream",
          "name": "stdout",
          "text": [
            "x =  6\n",
            "y =  9\n"
          ]
        }
      ]
    },
    {
      "cell_type": "code",
      "source": [
        "# question no 2\n",
        "length = int(input(\"entere a length --> \"))\n",
        "width = int(input(\"entere a width --> \"))\n",
        "area  = length * width\n",
        "print (\"area of rectengal \" , area )"
      ],
      "metadata": {
        "colab": {
          "base_uri": "https://localhost:8080/"
        },
        "id": "RLUmKHqis_nx",
        "outputId": "bd270d73-e689-49e7-b850-c967cbcf0d83"
      },
      "execution_count": null,
      "outputs": [
        {
          "output_type": "stream",
          "name": "stdout",
          "text": [
            "entere a length --> 10\n",
            "entere a width --> 15\n",
            "area of rectengal  150\n"
          ]
        }
      ]
    },
    {
      "cell_type": "code",
      "source": [
        "# question number 3\n",
        "temp = int(input(\" Enter a celsius° --> \"))\n",
        "fahrenheit = ( temp * 9/5) + 32\n",
        "print ('fahrenheit° --> ' , fahrenheit)"
      ],
      "metadata": {
        "colab": {
          "base_uri": "https://localhost:8080/"
        },
        "id": "ffUtEiLpuQkZ",
        "outputId": "88024362-b3ca-47d5-977b-1c783a81fe9f"
      },
      "execution_count": null,
      "outputs": [
        {
          "output_type": "stream",
          "name": "stdout",
          "text": [
            " Enter a celsius° --> -18\n",
            "fahrenheit° -->  -0.3999999999999986\n"
          ]
        }
      ]
    },
    {
      "cell_type": "code",
      "source": [
        "# string base question\n",
        "# question number 4\n",
        "x = 'mohd afjla khan'\n",
        "len(x)"
      ],
      "metadata": {
        "colab": {
          "base_uri": "https://localhost:8080/"
        },
        "id": "9n5EzHZ8xvzU",
        "outputId": "95c57661-2687-4ba5-db09-dd22d8bcf749"
      },
      "execution_count": null,
      "outputs": [
        {
          "output_type": "execute_result",
          "data": {
            "text/plain": [
              "15"
            ]
          },
          "metadata": {},
          "execution_count": 36
        }
      ]
    },
    {
      "cell_type": "code",
      "source": [
        "#question number 5  create a program that takes a sentence from the user and counts the number of vowels in the string\n",
        "sentence = input(\"enter your sentence--> \")\n",
        "count = 0\n",
        "l = ['a' , 'e' , 'i' , 'o' , 'u' , 'A' , 'E' , 'I' 'O' 'U']\n",
        "for i in sentence :\n",
        "   if i in l:\n",
        "    count+=1\n",
        "print( count)\n",
        "\n",
        "\n",
        "\n"
      ],
      "metadata": {
        "colab": {
          "base_uri": "https://localhost:8080/"
        },
        "id": "Qawswf45zZ1k",
        "outputId": "68ff4183-f4aa-415f-b252-cc7879fe5158"
      },
      "execution_count": null,
      "outputs": [
        {
          "output_type": "stream",
          "name": "stdout",
          "text": [
            "enter your sentence--> Hello World! Welcome to Python.\n",
            "8\n"
          ]
        }
      ]
    },
    {
      "cell_type": "code",
      "source": [
        "# question number 6\n",
        "x1 = ['a','b' , 'e' , 'i' , 'o' , 'u' , 'z']\n",
        "x1.reverse()\n",
        "x1"
      ],
      "metadata": {
        "colab": {
          "base_uri": "https://localhost:8080/"
        },
        "id": "HmvPRsBz0_mU",
        "outputId": "24ffd69e-435e-47b3-b8af-427858b41116"
      },
      "execution_count": null,
      "outputs": [
        {
          "output_type": "execute_result",
          "data": {
            "text/plain": [
              "['z', 'u', 'o', 'i', 'e', 'b', 'a']"
            ]
          },
          "metadata": {},
          "execution_count": 65
        }
      ]
    },
    {
      "cell_type": "code",
      "source": [
        "# question number 6\n",
        "x = 'hellow world'\n",
        "reverse = x[::-1]\n",
        "print(reverse)"
      ],
      "metadata": {
        "colab": {
          "base_uri": "https://localhost:8080/"
        },
        "id": "b90lyPZU8Ajv",
        "outputId": "1aa930cf-fdd4-4e29-ca42-50d7039f716a"
      },
      "execution_count": null,
      "outputs": [
        {
          "output_type": "stream",
          "name": "stdout",
          "text": [
            "dlrow wolleh\n"
          ]
        }
      ]
    },
    {
      "cell_type": "code",
      "source": [
        "# question number 7\n",
        "x = input(\"Enter a string--> \")\n",
        "y = x[::-1]\n",
        "if y == x :\n",
        "  print(\"palindrome\")\n",
        "else :\n",
        "  print(\"not palindrome\")"
      ],
      "metadata": {
        "colab": {
          "base_uri": "https://localhost:8080/"
        },
        "id": "zTwanmcq9sr4",
        "outputId": "f6bdebcc-3749-48d1-cfcf-404de4d9c286"
      },
      "execution_count": null,
      "outputs": [
        {
          "output_type": "stream",
          "name": "stdout",
          "text": [
            "Enter a string--> afjal\n",
            "not palindrome\n"
          ]
        }
      ]
    },
    {
      "cell_type": "code",
      "source": [
        "# question number 7\n",
        "x = input(\"Enter a string--> \")\n",
        "if x == x[::-1] :\n",
        "  print(\"palindrome\")\n",
        "else :\n",
        "  print(\"not palindrome\")"
      ],
      "metadata": {
        "colab": {
          "base_uri": "https://localhost:8080/"
        },
        "id": "BF_t3rZYCvxV",
        "outputId": "b5263a61-41f9-4b07-fcf7-8dfe10527af4"
      },
      "execution_count": null,
      "outputs": [
        {
          "output_type": "stream",
          "name": "stdout",
          "text": [
            "Enter a string--> madam\n",
            "palindrome\n"
          ]
        }
      ]
    },
    {
      "cell_type": "code",
      "source": [
        "# question number 8\n",
        "x = \"mohd afjal khan\"\n",
        "x.replace(\" \" , \"\")"
      ],
      "metadata": {
        "colab": {
          "base_uri": "https://localhost:8080/",
          "height": 35
        },
        "id": "8BafaDqXEMuk",
        "outputId": "e13c172a-a8cf-44ed-e5f4-474d480bd969"
      },
      "execution_count": null,
      "outputs": [
        {
          "output_type": "execute_result",
          "data": {
            "text/plain": [
              "'mohdafjalkhan'"
            ],
            "application/vnd.google.colaboratory.intrinsic+json": {
              "type": "string"
            }
          },
          "metadata": {},
          "execution_count": 101
        }
      ]
    },
    {
      "cell_type": "code",
      "source": [
        "# question number 8\n",
        "text = input(\"Enter a String : \")\n",
        "modified_text = text.replace(\" \" , \"\")\n",
        "print (\"String Without Space : \" , modified_text)"
      ],
      "metadata": {
        "colab": {
          "base_uri": "https://localhost:8080/"
        },
        "id": "TxCSvUhUFWRD",
        "outputId": "44788a36-a3be-41e5-b4db-2f08c379d0ba"
      },
      "execution_count": null,
      "outputs": [
        {
          "output_type": "stream",
          "name": "stdout",
          "text": [
            "Enter a String : mohd ashraf khan\n",
            "String Without Space :  mohdashrafkhan\n"
          ]
        }
      ]
    },
    {
      "cell_type": "code",
      "source": [
        "for i in range(1,11):\n",
        "  print(i)"
      ],
      "metadata": {
        "id": "oxqYYLdmHnen",
        "colab": {
          "base_uri": "https://localhost:8080/"
        },
        "outputId": "eed35721-5abe-4f43-e91d-fc3f0a060562"
      },
      "execution_count": null,
      "outputs": [
        {
          "output_type": "stream",
          "name": "stdout",
          "text": [
            "1\n",
            "2\n",
            "3\n",
            "4\n",
            "5\n",
            "6\n",
            "7\n",
            "8\n",
            "9\n",
            "10\n"
          ]
        }
      ]
    },
    {
      "cell_type": "code",
      "source": [
        "num = [1,2,3,4,5,6,7]\n",
        "count = 0\n",
        "for i in num:\n",
        "  count += 1*i\n",
        "print(count)"
      ],
      "metadata": {
        "colab": {
          "base_uri": "https://localhost:8080/"
        },
        "id": "aF1IZgSMjBsQ",
        "outputId": "f650dcb7-23f4-4595-bf07-04e99a8eabd7"
      },
      "execution_count": null,
      "outputs": [
        {
          "output_type": "stream",
          "name": "stdout",
          "text": [
            "28\n"
          ]
        }
      ]
    },
    {
      "cell_type": "code",
      "source": [
        "text  = \"character\"\n",
        "reverse = text[::-1]\n",
        "print (reverse)"
      ],
      "metadata": {
        "colab": {
          "base_uri": "https://localhost:8080/"
        },
        "id": "WBd06xytjowP",
        "outputId": "cbaef043-9e3e-4b47-ccbb-d1e63d075d37"
      },
      "execution_count": null,
      "outputs": [
        {
          "output_type": "stream",
          "name": "stdout",
          "text": [
            "retcarahc\n"
          ]
        }
      ]
    },
    {
      "cell_type": "code",
      "source": [
        "text = \" Mohd afjal khan \"\n",
        "for i in range(len(text)-1,-1,-1): # used in step\n",
        "  print(text[i],end=\"\")"
      ],
      "metadata": {
        "colab": {
          "base_uri": "https://localhost:8080/"
        },
        "id": "TylCJvCfmVlf",
        "outputId": "e1158835-cb75-410d-fc3d-8bcff8e5b7d0"
      },
      "execution_count": null,
      "outputs": [
        {
          "output_type": "stream",
          "name": "stdout",
          "text": [
            " nahk lajfa dhoM "
          ]
        }
      ]
    },
    {
      "cell_type": "code",
      "source": [
        "x = \"mohd afjal khan\"\n",
        "for i in reversed(x):\n",
        "  print(i,end=\"\")"
      ],
      "metadata": {
        "colab": {
          "base_uri": "https://localhost:8080/"
        },
        "id": "Wab6bl7_pHhs",
        "outputId": "23359f93-12c2-4dee-e2d0-0978cf7cd7a2"
      },
      "execution_count": null,
      "outputs": [
        {
          "output_type": "stream",
          "name": "stdout",
          "text": [
            "nahk lajfa dhom"
          ]
        }
      ]
    },
    {
      "cell_type": "code",
      "source": [
        "# question number 4\n",
        "num  = int(input(\"enter a number : \"))\n",
        "factorial = 1\n",
        "for i in range(1,num +1 ):\n",
        "   factorial *= i\n",
        "print(f\"Facrorial of {num} is {factorial}\")\n"
      ],
      "metadata": {
        "colab": {
          "base_uri": "https://localhost:8080/"
        },
        "id": "6BOA6Z5vsOza",
        "outputId": "cf30fd00-f060-4cc5-b31e-f7ea65a09a86"
      },
      "execution_count": null,
      "outputs": [
        {
          "output_type": "stream",
          "name": "stdout",
          "text": [
            "enter a number : 5\n",
            "Facrorial of 5 is 120\n"
          ]
        }
      ]
    },
    {
      "cell_type": "code",
      "source": [
        "# question number 4\n",
        "num  = int(input(\"enter a number : \"))\n",
        "factorial = 1\n",
        "for i in range(1,num +1,1):\n",
        "    factorial *= i\n",
        "    print(i,\"! --> \", factorial)"
      ],
      "metadata": {
        "colab": {
          "base_uri": "https://localhost:8080/"
        },
        "id": "XiE72FYDxZ-k",
        "outputId": "462a890e-ccc7-4107-ba76-739ba61d7ed0"
      },
      "execution_count": null,
      "outputs": [
        {
          "output_type": "stream",
          "name": "stdout",
          "text": [
            "enter a number : 5\n",
            "1 ! -->  1\n",
            "2 ! -->  2\n",
            "3 ! -->  6\n",
            "4 ! -->  24\n",
            "5 ! -->  120\n"
          ]
        }
      ]
    },
    {
      "cell_type": "code",
      "source": [
        "num = int (input(\"enter a numbrer : \"))\n",
        "table = 0\n",
        "\n",
        "for i in range(1,11):\n",
        "  table +=num\n",
        "  x = 5\n",
        "  print (x , \"*\" , i ,\"=\",table)"
      ],
      "metadata": {
        "id": "0ZoOpjyG21Fg",
        "colab": {
          "base_uri": "https://localhost:8080/"
        },
        "outputId": "aee4e4a5-ca2a-473e-d278-232e2c379326"
      },
      "execution_count": null,
      "outputs": [
        {
          "output_type": "stream",
          "name": "stdout",
          "text": [
            "enter a numbrer : 100\n",
            "5 * 1 = 100\n",
            "5 * 2 = 200\n",
            "5 * 3 = 300\n",
            "5 * 4 = 400\n",
            "5 * 5 = 500\n",
            "5 * 6 = 600\n",
            "5 * 7 = 700\n",
            "5 * 8 = 800\n",
            "5 * 9 = 900\n",
            "5 * 10 = 1000\n"
          ]
        }
      ]
    },
    {
      "cell_type": "code",
      "source": [
        "number = [1,5,2,6,9,4,3,8,7]\n",
        "for i in number:\n",
        "  if i % 2 == 0:\n",
        "    print(\"even number\" , i)\n",
        "  else:\n",
        "    print(\"odd number\" , i)"
      ],
      "metadata": {
        "colab": {
          "base_uri": "https://localhost:8080/"
        },
        "id": "paY9c_pSVMam",
        "outputId": "9591dc31-8114-4208-ba36-11e749c45b33"
      },
      "execution_count": null,
      "outputs": [
        {
          "output_type": "stream",
          "name": "stdout",
          "text": [
            "odd number 1\n",
            "odd number 5\n",
            "even number 2\n",
            "even number 6\n",
            "odd number 9\n",
            "even number 4\n",
            "odd number 3\n",
            "even number 8\n",
            "odd number 7\n"
          ]
        }
      ]
    },
    {
      "cell_type": "code",
      "source": [
        "number = [1,5,2,6,9,4,3,8,7]\n",
        "even  = 0\n",
        "odd = 0\n",
        "\n",
        "for i in number:\n",
        "  if i % 2 == 0:\n",
        "    even += 1\n",
        "  else:\n",
        "    odd+=1\n",
        "print(\"even number : \" , even)\n",
        "print(\"odd number : \" , odd)"
      ],
      "metadata": {
        "colab": {
          "base_uri": "https://localhost:8080/"
        },
        "id": "JNFNa3_tWfRf",
        "outputId": "bc7e8114-59e3-45a3-e000-8b43bc8e064c"
      },
      "execution_count": null,
      "outputs": [
        {
          "output_type": "stream",
          "name": "stdout",
          "text": [
            "even number :  4\n",
            "odd number :  5\n"
          ]
        }
      ]
    },
    {
      "cell_type": "code",
      "source": [
        "for i in range(1,6):\n",
        "   i*=i\n",
        "   print(i)"
      ],
      "metadata": {
        "colab": {
          "base_uri": "https://localhost:8080/"
        },
        "id": "R3UeCEKlXb4s",
        "outputId": "d435d767-a89f-415b-a699-d98b39887e70"
      },
      "execution_count": null,
      "outputs": [
        {
          "output_type": "stream",
          "name": "stdout",
          "text": [
            "1\n",
            "4\n",
            "9\n",
            "16\n",
            "25\n"
          ]
        }
      ]
    },
    {
      "cell_type": "code",
      "source": [
        "for num in range(1, 6):\n",
        "   print(f\"{num} is squre of {num ** 2}\")\n"
      ],
      "metadata": {
        "colab": {
          "base_uri": "https://localhost:8080/"
        },
        "id": "jQ7x0swpYWHk",
        "outputId": "342f6cee-fc36-4543-e5f5-83fc315ef638"
      },
      "execution_count": null,
      "outputs": [
        {
          "output_type": "stream",
          "name": "stdout",
          "text": [
            "1 is squre of 1\n",
            "2 is squre of 4\n",
            "3 is squre of 9\n",
            "4 is squre of 16\n",
            "5 is squre of 25\n"
          ]
        }
      ]
    },
    {
      "cell_type": "code",
      "source": [
        "x = \"mohd afjal khan\"\n",
        "len(x)"
      ],
      "metadata": {
        "colab": {
          "base_uri": "https://localhost:8080/"
        },
        "id": "GkX5Rj3sY7T8",
        "outputId": "9d38eb4e-d135-4f04-9a75-8313425c85af"
      },
      "execution_count": null,
      "outputs": [
        {
          "output_type": "execute_result",
          "data": {
            "text/plain": [
              "15"
            ]
          },
          "metadata": {},
          "execution_count": 24
        }
      ]
    },
    {
      "cell_type": "code",
      "source": [
        "text = \"mohd afjal khan\"\n",
        "text_len = 0\n",
        "for i in text:\n",
        "   text_len+=1\n",
        "print(\"text_len : \" , text_len)\n"
      ],
      "metadata": {
        "colab": {
          "base_uri": "https://localhost:8080/"
        },
        "id": "yjIMsjgVZ5h1",
        "outputId": "75fb3077-6dac-4625-841e-65aac38061d9"
      },
      "execution_count": null,
      "outputs": [
        {
          "output_type": "stream",
          "name": "stdout",
          "text": [
            "text_len :  15\n"
          ]
        }
      ]
    },
    {
      "cell_type": "code",
      "source": [
        "num = [10,20,30,15,25]\n",
        "sum = 0\n",
        "for i in num :\n",
        "  sum+=i\n",
        "print(sum, 'average' ,sum / len(num))\n"
      ],
      "metadata": {
        "colab": {
          "base_uri": "https://localhost:8080/"
        },
        "id": "c4PxAdCGalm7",
        "outputId": "34e63ac4-6b8b-41c2-cff5-2817d4c3d83c"
      },
      "execution_count": null,
      "outputs": [
        {
          "output_type": "stream",
          "name": "stdout",
          "text": [
            "100 average 20.0\n"
          ]
        }
      ]
    },
    {
      "cell_type": "code",
      "source": [
        "n_num = int (input (\"Enter a number : \"))\n",
        "\n",
        "a = 0\n",
        "b = 1\n",
        "for i in range(n_num):\n",
        "  c = a+b\n",
        "  a = b\n",
        "  b = c\n",
        "  print(c,end=\" \")\n"
      ],
      "metadata": {
        "colab": {
          "base_uri": "https://localhost:8080/"
        },
        "id": "vicZfuiIFbIi",
        "outputId": "738946e7-88ee-48c6-8106-6e89d354ac19"
      },
      "execution_count": null,
      "outputs": [
        {
          "output_type": "stream",
          "name": "stdout",
          "text": [
            "Enter a number : 10\n",
            "1 2 3 5 8 13 21 34 55 89 "
          ]
        }
      ]
    },
    {
      "cell_type": "code",
      "source": [
        "# Function to print Fibonacci series up to n terms\n",
        "\n",
        "n_num = int (input (\"Enter a number : \"))\n",
        "\n",
        "a,b = 0,1  # First two Fibonacci numbers\n",
        "\n",
        "for i in range(n_num):\n",
        "  print(a,end= \" \")    # Print the current Fibonacci number\n",
        "  a,b = b,a+b   # Update values for next iteration"
      ],
      "metadata": {
        "colab": {
          "base_uri": "https://localhost:8080/"
        },
        "id": "LUtEzaIMGGY5",
        "outputId": "4b64cabe-665d-4553-872f-043590a36d24"
      },
      "execution_count": null,
      "outputs": [
        {
          "output_type": "stream",
          "name": "stdout",
          "text": [
            "Enter a number : 10\n",
            "0 1 1 2 3 5 8 13 21 34 "
          ]
        }
      ]
    },
    {
      "cell_type": "markdown",
      "source": [
        "# **INTERMEDIATE LEVEL QUESTION**"
      ],
      "metadata": {
        "id": "9xSr-nwqKDVO"
      }
    },
    {
      "cell_type": "code",
      "source": [
        "my_list = [1,2,1,5,7,2,3,\"Afjal\",\"Afjal\",\"khan\"]\n",
        "dup_remove = list(set(my_list))\n",
        "for i in my_list:\n",
        "  check_duplicate = set(my_list).intersection(dup_remove)\n",
        "print(dup_remove)\n",
        "print(\"Duplicate value : \" , check_duplicate)\n"
      ],
      "metadata": {
        "colab": {
          "base_uri": "https://localhost:8080/"
        },
        "id": "DYKCxxlVKUdt",
        "outputId": "bfda330f-9662-483d-ca6c-3abee089bcef"
      },
      "execution_count": null,
      "outputs": [
        {
          "output_type": "stream",
          "name": "stdout",
          "text": [
            "[1, 2, 3, 'khan', 5, 7, 'Afjal']\n",
            "Duplicate value :  {1, 2, 3, 'khan', 5, 7, 'Afjal'}\n"
          ]
        }
      ]
    },
    {
      "cell_type": "code",
      "source": [
        "my_list = [1,2,1,5,7,2,3,\"Afjal\",\"Afjal\",\"khan\"]\n",
        "dup_remove = list(set(my_list))\n",
        "\n",
        "duplicate = set()\n",
        "with_out_dup = set()\n",
        "\n",
        "for item in my_list:\n",
        "  if item in with_out_dup:\n",
        "    duplicate.add(item)\n",
        "  else:\n",
        "    with_out_dup.add(item)\n",
        "\n",
        "print(\"List after removing duplicates : \" , dup_remove)\n",
        "print(\"Duplicate value : \" ,list( duplicate))\n"
      ],
      "metadata": {
        "colab": {
          "base_uri": "https://localhost:8080/"
        },
        "id": "6ML9IBYFRdjm",
        "outputId": "99f37dd7-66a5-4322-e790-facea8c2aa0e"
      },
      "execution_count": null,
      "outputs": [
        {
          "output_type": "stream",
          "name": "stdout",
          "text": [
            "List after removing duplicates :  [1, 2, 3, 'khan', 5, 7, 'Afjal']\n",
            "Duplicate value :  [1, 2, 'Afjal']\n"
          ]
        }
      ]
    },
    {
      "cell_type": "code",
      "source": [
        "# create a program that print the prime numbers in a given range using a for loop.\n",
        "\n"
      ],
      "metadata": {
        "id": "MjdAGbQoS2yH"
      },
      "execution_count": null,
      "outputs": []
    },
    {
      "cell_type": "code",
      "source": [
        "# develop a program that count the number of vowels in a string using a for loop\n",
        "vowels = ['a','e','i','o','u','A','E','I','O','U']\n",
        "my_string = input(\"Enter a string : \")\n",
        "count = 0\n",
        "\n",
        "for i in my_string:\n",
        "  if i in vowels:\n",
        "    count+=1\n",
        "count"
      ],
      "metadata": {
        "colab": {
          "base_uri": "https://localhost:8080/"
        },
        "id": "rGDfOnDKZ6en",
        "outputId": "be37a0c6-c144-4577-bdef-58a21250b185"
      },
      "execution_count": null,
      "outputs": [
        {
          "name": "stdout",
          "output_type": "stream",
          "text": [
            "Enter a string : mohd Afjal khan\n"
          ]
        },
        {
          "output_type": "execute_result",
          "data": {
            "text/plain": [
              "4"
            ]
          },
          "metadata": {},
          "execution_count": 85
        }
      ]
    },
    {
      "cell_type": "code",
      "source": [
        "# write a program to find the maximum element in 2d list using a nested for loop\n",
        "\n",
        "matrix = [\n",
        "    [5,4,6],\n",
        "    [2,1,9],\n",
        "    [7,4,10]\n",
        "]\n",
        "\n",
        "maximum_element = matrix[0][0]\n",
        "\n",
        "for row in matrix:\n",
        "  for element in row:\n",
        "    if element > maximum_element:\n",
        "      maximum_element = element\n",
        "\n",
        "\n",
        "print(\"maximum_number in given matrix : \" , maximum_element)\n",
        "\n"
      ],
      "metadata": {
        "id": "Tj9xBqtygxWW",
        "colab": {
          "base_uri": "https://localhost:8080/"
        },
        "outputId": "7376da6f-100f-4efc-8b23-253a06b5c746"
      },
      "execution_count": null,
      "outputs": [
        {
          "output_type": "stream",
          "name": "stdout",
          "text": [
            "maximum_number in given matrix :  10\n"
          ]
        }
      ]
    },
    {
      "cell_type": "code",
      "source": [
        "# create a program that removes all occurrences of a specific element from a list using a for loop.\n",
        "\n",
        "my_list = [5,4,9,8,10,6,\"Afjal\",'khan']\n",
        "occurrences_element = []\n",
        "for i in my_list:\n",
        "  if type(i) == int:\n",
        "    occurrences_element.append(i)\n",
        "print(occurrences_element)\n",
        "\n"
      ],
      "metadata": {
        "colab": {
          "base_uri": "https://localhost:8080/"
        },
        "id": "tIe6fOVM-DBJ",
        "outputId": "2ed02196-83e9-4df7-ed87-ead5975ba167"
      },
      "execution_count": null,
      "outputs": [
        {
          "output_type": "stream",
          "name": "stdout",
          "text": [
            "[5, 4, 9, 8, 10, 6]\n"
          ]
        }
      ]
    },
    {
      "cell_type": "code",
      "source": [
        "my_list = [2,5,8,6,12,6,3,13]\n",
        "occurrences_element = []\n",
        "\n",
        "for i in my_list:\n",
        "  if i % 2 == 0:\n",
        "    continue\n",
        "  else:\n",
        "    occurrences_element.append(i)\n",
        "\n",
        "print(occurrences_element)\n"
      ],
      "metadata": {
        "colab": {
          "base_uri": "https://localhost:8080/"
        },
        "id": "3oHI9g52AivD",
        "outputId": "1f41f661-69ae-4e82-cc04-701941dd26e8"
      },
      "execution_count": null,
      "outputs": [
        {
          "output_type": "stream",
          "name": "stdout",
          "text": [
            "[5, 3, 13]\n"
          ]
        }
      ]
    },
    {
      "cell_type": "code",
      "source": [
        "# develop a program that generates a multiplication table for numbers 1 to 5 using a nested for loop.\n",
        "my_multiplication = [1,2,3,4,5]\n",
        "\n",
        "for num in my_multiplication:\n",
        "  for i in range(1,11):\n",
        "    print (f\"{num} x {i} = {i*num}\")\n",
        "  print()\n"
      ],
      "metadata": {
        "colab": {
          "base_uri": "https://localhost:8080/"
        },
        "id": "USrVhF0ZBfWD",
        "outputId": "b3f5fe69-9a52-429b-81c8-8a6e095e07b9"
      },
      "execution_count": null,
      "outputs": [
        {
          "output_type": "stream",
          "name": "stdout",
          "text": [
            "1 x 1 = 1\n",
            "1 x 2 = 2\n",
            "1 x 3 = 3\n",
            "1 x 4 = 4\n",
            "1 x 5 = 5\n",
            "1 x 6 = 6\n",
            "1 x 7 = 7\n",
            "1 x 8 = 8\n",
            "1 x 9 = 9\n",
            "1 x 10 = 10\n",
            "\n",
            "2 x 1 = 2\n",
            "2 x 2 = 4\n",
            "2 x 3 = 6\n",
            "2 x 4 = 8\n",
            "2 x 5 = 10\n",
            "2 x 6 = 12\n",
            "2 x 7 = 14\n",
            "2 x 8 = 16\n",
            "2 x 9 = 18\n",
            "2 x 10 = 20\n",
            "\n",
            "3 x 1 = 3\n",
            "3 x 2 = 6\n",
            "3 x 3 = 9\n",
            "3 x 4 = 12\n",
            "3 x 5 = 15\n",
            "3 x 6 = 18\n",
            "3 x 7 = 21\n",
            "3 x 8 = 24\n",
            "3 x 9 = 27\n",
            "3 x 10 = 30\n",
            "\n",
            "4 x 1 = 4\n",
            "4 x 2 = 8\n",
            "4 x 3 = 12\n",
            "4 x 4 = 16\n",
            "4 x 5 = 20\n",
            "4 x 6 = 24\n",
            "4 x 7 = 28\n",
            "4 x 8 = 32\n",
            "4 x 9 = 36\n",
            "4 x 10 = 40\n",
            "\n",
            "5 x 1 = 5\n",
            "5 x 2 = 10\n",
            "5 x 3 = 15\n",
            "5 x 4 = 20\n",
            "5 x 5 = 25\n",
            "5 x 6 = 30\n",
            "5 x 7 = 35\n",
            "5 x 8 = 40\n",
            "5 x 9 = 45\n",
            "5 x 10 = 50\n",
            "\n"
          ]
        }
      ]
    },
    {
      "cell_type": "code",
      "source": [
        "# creat a program to print the common elements from two list using a for loop\n",
        "\n",
        "first_list = [1,2,3,4,5,6,1]\n",
        "secound_list = [1,5,6,9,8,10]\n",
        "\n",
        "common_element = []\n",
        "\n",
        "for num in first_list:\n",
        "  if num in  secound_list:\n",
        "    common_element.append(num)\n",
        "\n",
        "# Print the common elements\n",
        "print(\"List 1:\", first_list)\n",
        "print(\"List 2:\", secound_list)\n",
        "print(\"Common Elements:\", common_element)"
      ],
      "metadata": {
        "colab": {
          "base_uri": "https://localhost:8080/"
        },
        "id": "YBjOLs8XDGiE",
        "outputId": "1822be77-2321-4d87-9df0-c79d836a9c31"
      },
      "execution_count": null,
      "outputs": [
        {
          "output_type": "stream",
          "name": "stdout",
          "text": [
            "List 1: [1, 2, 3, 4, 5, 6, 1]\n",
            "List 2: [1, 5, 6, 9, 8, 10]\n",
            "Common Elements: [1, 5, 6, 1]\n"
          ]
        }
      ]
    },
    {
      "cell_type": "code",
      "source": [
        "# write a program that convert a list of fahrenheit temperatures to celsius using a for loop\n",
        "\n",
        "fahrenheit = int(input(\"Enter a Temperature : \"))\n",
        "celsius = (fahrenheit-32)*5/9\n",
        "print(f\"Conver fahrenheit : {fahrenheit} to celsius : {celsius}\")"
      ],
      "metadata": {
        "colab": {
          "base_uri": "https://localhost:8080/"
        },
        "id": "p4xvFReTE81-",
        "outputId": "4eb65895-aed7-4a6d-fdf8-29af0320f2a2"
      },
      "execution_count": null,
      "outputs": [
        {
          "output_type": "stream",
          "name": "stdout",
          "text": [
            "Enter a Temperature : 5\n",
            "Conver fahrenheit : 5 to celsius : -15.0\n"
          ]
        }
      ]
    },
    {
      "cell_type": "code",
      "source": [
        "# List of Fahrenheit temperatures\n",
        "fahrenheit = [70,80,40,32,110,-50]\n",
        "\n",
        "# Empty list to store Celsius temperatures\n",
        "celsius_temperature = []\n",
        "\n",
        "# Convert each temperature using a for loop\n",
        "for temp in fahrenheit:\n",
        "  celsius = (temp-32)*5/9# Conversion formula\n",
        "  celsius_temperature.append(celsius) # Append to the Celsius list\n",
        "\n",
        "# Print the converted temperatures\n",
        "print(f\"fahrenheit temperature : {fahrenheit} \")\n",
        "print(f\"celsius temperature : {celsius_temperature}\")"
      ],
      "metadata": {
        "colab": {
          "base_uri": "https://localhost:8080/"
        },
        "id": "QEL6pPkTGkC9",
        "outputId": "ee19653f-fc96-4a89-f094-7a6dc4e3102c"
      },
      "execution_count": null,
      "outputs": [
        {
          "output_type": "stream",
          "name": "stdout",
          "text": [
            "fahrenheit temperature : [70, 80, 40, 32, 110, -50] \n",
            "celsius temperature : [21.11111111111111, 26.666666666666668, 4.444444444444445, 0.0, 43.333333333333336, -45.55555555555556]\n"
          ]
        }
      ]
    },
    {
      "cell_type": "code",
      "source": [
        "# develop a program that prints the pattern of righr angled triangles using a for loop use '*' to draw the pattern.\n",
        "row = int(input(\"Enter a number : \"))\n",
        "for i in range(row+1):\n",
        "  for j in range(i):\n",
        "    print('*',end = \" \")\n",
        "  print()"
      ],
      "metadata": {
        "colab": {
          "base_uri": "https://localhost:8080/"
        },
        "id": "7c5-vEIjPhhr",
        "outputId": "b287cecb-4d3e-4f6b-ad64-f3f3394b195f"
      },
      "execution_count": null,
      "outputs": [
        {
          "output_type": "stream",
          "name": "stdout",
          "text": [
            "Enter a number : 5\n",
            "\n",
            "* \n",
            "* * \n",
            "* * * \n",
            "* * * * \n",
            "* * * * * \n"
          ]
        }
      ]
    },
    {
      "cell_type": "markdown",
      "source": [
        "# **Ye question nahi huaa hai**"
      ],
      "metadata": {
        "id": "a34scDh9UyAj"
      }
    },
    {
      "cell_type": "code",
      "source": [
        "# create a program that print the prime numbers in a given range using a for loop."
      ],
      "metadata": {
        "id": "hG0fSelJVCkP"
      },
      "execution_count": null,
      "outputs": []
    },
    {
      "cell_type": "code",
      "source": [
        "# write a program to find the greatest common divisor (GCD) of two number using a for loop.\n",
        "\n",
        "x = int(input(\"Enter a number : \"))\n",
        "y = int(input(\"Enter a number  : \"))\n",
        "\n",
        "minimum_num = min(x,y)\n",
        "\n",
        "# Initialize GCD as 1 (minimum possible GCD)\n",
        "GCD = 1\n",
        "\n",
        "for i in range(1,minimum_num+1):\n",
        "  x % i == 0 and y % i == 0\n",
        "  GCD = i\n",
        "print(GCD)"
      ],
      "metadata": {
        "colab": {
          "base_uri": "https://localhost:8080/"
        },
        "id": "klJUL4mSQrMU",
        "outputId": "8676a31e-5cfb-4448-d28d-a270fe2683ee"
      },
      "execution_count": null,
      "outputs": [
        {
          "output_type": "stream",
          "name": "stdout",
          "text": [
            "Enter a number : 56\n",
            "Enter a number  : 98\n",
            "56\n"
          ]
        }
      ]
    },
    {
      "cell_type": "code",
      "source": [
        "# 22. Write a program to find the prime factors of a given number using a for loop and list comprehension."
      ],
      "metadata": {
        "id": "USnb9q8yg6b2"
      },
      "execution_count": null,
      "outputs": []
    },
    {
      "cell_type": "markdown",
      "source": [
        "# **Advance Level Question**"
      ],
      "metadata": {
        "id": "KUUczh6pbZqS"
      }
    },
    {
      "cell_type": "code",
      "source": [
        "# 21 .  create a program that calculates the sum of the digits of number in a list using a list comprehension\n",
        "\n",
        "def sum_of_dig (n):\n",
        "  return sum(int(dig) for dig in str(n))\n",
        "\n",
        "numbers = [123,456,789,34,67,1]\n",
        "\n",
        "sums = [sum_of_dig(n) for n in numbers]\n",
        "\n",
        "print(\"orignal list : \" , numbers)\n",
        "print(\"list comprehension : \" , sums)"
      ],
      "metadata": {
        "id": "T7I_8oxBEP8M",
        "colab": {
          "base_uri": "https://localhost:8080/"
        },
        "outputId": "37b97520-b506-486e-f3e6-c8ead997c230"
      },
      "execution_count": null,
      "outputs": [
        {
          "output_type": "stream",
          "name": "stdout",
          "text": [
            "orignal list :  [123, 456, 789, 34, 67, 1]\n",
            "list comprehension :  [6, 15, 24, 7, 13, 1]\n"
          ]
        }
      ]
    },
    {
      "cell_type": "code",
      "source": [
        "# 23. Develop a program that extrects unique elements from a list and stores them in a new list using a list comprehension.\n",
        "\n",
        "\n",
        "# Original list with duplicate elements\n",
        "List_elem = [2,45,7,2,45,'afjal' , 'khan' , 'afjal']\n",
        "\n",
        "\n",
        "# Using list comprehension to extract unique elements\n",
        "unique_elem_list = []\n",
        "[unique_elem_list.append(i) for i in List_elem if i not in unique_elem_list]\n",
        "\n",
        "\n",
        "# Display the unique list\n",
        "print(\"Origna, list --> \" , List_elem)\n",
        "print(\"Unique list --> \" ,  unique_elem_list)"
      ],
      "metadata": {
        "id": "iG8seCbcEP5l",
        "colab": {
          "base_uri": "https://localhost:8080/"
        },
        "outputId": "166f34b5-470b-4604-9c90-5c6daa7e72d1"
      },
      "execution_count": null,
      "outputs": [
        {
          "output_type": "stream",
          "name": "stdout",
          "text": [
            "Origna, list -->  [2, 45, 7, 2, 45, 'afjal', 'khan', 'afjal']\n",
            "Unique list -->  [2, 45, 7, 'afjal', 'khan']\n"
          ]
        }
      ]
    },
    {
      "cell_type": "code",
      "source": [
        "# 24. Create a program that generates a list of all palindromic number up to a specified limit usint a list comprehension\n",
        "\n",
        "def palindromic_num (i):\n",
        "  return str(i) == str(i)[::-1]\n",
        "limit = 50\n",
        "palindromic_number = [ i for i in range(limit+1) if palindromic_num(i)]\n",
        "\n",
        "print (\"palindromic number upto \" , limit , \"are : \" , palindromic_number)"
      ],
      "metadata": {
        "id": "t-RohhqEEPmv",
        "colab": {
          "base_uri": "https://localhost:8080/"
        },
        "outputId": "0afc68b1-d95c-4077-c780-a78c2680312c"
      },
      "execution_count": null,
      "outputs": [
        {
          "output_type": "stream",
          "name": "stdout",
          "text": [
            "palindromic number upto  50 are :  [0, 1, 2, 3, 4, 5, 6, 7, 8, 9, 11, 22, 33, 44]\n"
          ]
        }
      ]
    },
    {
      "cell_type": "code",
      "source": [
        "# 25. write a program to flatten a nested list using list comprehension.\n",
        "\n",
        "def flat(lis):\n",
        "    flatList = []\n",
        "    # Iterate with outer list\n",
        "    for element in lis:\n",
        "        if type(element) is list:\n",
        "            # Check if type is list than iterate through the sublist\n",
        "            for item in element:\n",
        "                flatList.append(item)\n",
        "        else:\n",
        "            flatList.append(element)\n",
        "    return flatList\n",
        "\n",
        "lis = [1,2,3,4,[6,4,7] ,\"Khan\" ,['Mohd'] , 0]\n",
        "flat(lis)\n"
      ],
      "metadata": {
        "colab": {
          "base_uri": "https://localhost:8080/"
        },
        "id": "KzqNrmMbEB2i",
        "outputId": "06fb5858-f457-4750-b8c7-3619e62b9c1e"
      },
      "execution_count": null,
      "outputs": [
        {
          "output_type": "execute_result",
          "data": {
            "text/plain": [
              "[1, 2, 3, 4, 6, 4, 7, 'Khan', 'Mohd', 0]"
            ]
          },
          "metadata": {},
          "execution_count": 1
        }
      ]
    },
    {
      "cell_type": "code",
      "source": [
        "# 26. Develop a program that computes the sum of even and odd numbers in a list separately using list comprehension.\n",
        "\n",
        "def sum_even_oddnum(List_num):\n",
        "\n",
        "# sum of even number using list comprehension.\n",
        "  sum_even = sum([ num for num in List_num if num%2==0 ])\n",
        "\n",
        "# sum of odd number using list comprehension.\n",
        "  sum_odd = sum([num for num in List_num if num%2 != 0 ])\n",
        "\n",
        "  return sum_even , sum_odd\n",
        "\n",
        "\n",
        "# Example usage\n",
        "List_num = [12,45,78,96,43,63,9]\n",
        "sum_even , sum_odd = sum_even_oddnum(List_num)\n",
        "\n",
        "print('Sum of even num : ' , sum_even )\n",
        "print(\"sum of odd num : \" , sum_odd)"
      ],
      "metadata": {
        "colab": {
          "base_uri": "https://localhost:8080/"
        },
        "id": "YP906tf2EByf",
        "outputId": "0c1bcfa3-7c72-4f6b-c179-c45a160e49e2"
      },
      "execution_count": null,
      "outputs": [
        {
          "output_type": "stream",
          "name": "stdout",
          "text": [
            "Sum of even num :  186\n",
            "sum of odd num :  160\n"
          ]
        }
      ]
    },
    {
      "cell_type": "code",
      "source": [
        "# 27. Create a program that generates a list of squares of odd numbers between 1 and 10 using list comprehension.\n",
        "\n",
        "def squares_odd_num (start , end ):\n",
        "      # Generate a list of squares of odd numbers in the given range\n",
        "  squre_of_odd = [odd**2 for odd in range(start , end+1) if odd %2 != 0]\n",
        "  return squre_of_odd\n",
        "\n",
        "start_range = int(input(\"Enter a start number : \"))\n",
        "end_range = int(input(\"Enter a end number : \"))\n",
        "\n",
        "result = squares_odd_num(start_range , end_range)\n",
        "\n",
        "print(f\"Squares of odd numbers between {start_range} to {end_range}: {result}\")\n",
        "\n"
      ],
      "metadata": {
        "id": "DRhZutIEEBi4",
        "colab": {
          "base_uri": "https://localhost:8080/"
        },
        "outputId": "f8ce0ce0-2f64-47de-d00d-c4cff7e9f434"
      },
      "execution_count": null,
      "outputs": [
        {
          "output_type": "stream",
          "name": "stdout",
          "text": [
            "Enter a start number : 1\n",
            "Enter a end number : 10\n",
            "Squares of odd numbers between 1 to 10: [1, 9, 25, 49, 81]\n"
          ]
        }
      ]
    },
    {
      "cell_type": "code",
      "source": [
        "# 28. write a program that combines two list into a dictionary using list comprehention.\n",
        "\n",
        "def combines_list (key , value ):\n",
        "  into_dic = {key_list[i]:value_list[i] for i in range(len(key_list))}\n",
        "  return into_dic\n",
        "\n",
        "key_list = [\"Name\" , \"Age\" , \"Collage\" , \"Subject\"]\n",
        "value_list = [\"Afjal\" , 18 , \"IIT Patna\" , (\"Python with DSA\" , \"Computer science \" )]\n",
        "\n",
        "combines_list(key_list,value_list)\n"
      ],
      "metadata": {
        "colab": {
          "base_uri": "https://localhost:8080/"
        },
        "id": "QzUqkV-4a0Zu",
        "outputId": "17df6138-b01d-44fd-b618-2b0e95fc5ed3"
      },
      "execution_count": null,
      "outputs": [
        {
          "output_type": "execute_result",
          "data": {
            "text/plain": [
              "{'Name': 'Afjal',\n",
              " 'Age': 18,\n",
              " 'Collage': 'IIT Patna',\n",
              " 'Subject': ('Python with DSA', 'Computer science ')}"
            ]
          },
          "metadata": {},
          "execution_count": 28
        }
      ]
    },
    {
      "cell_type": "code",
      "source": [
        "# 29. Develop a program that extracts  the vowels from a string and stores them in a list using list comprehention.\n",
        "\n",
        "def count_vowels(x):\n",
        "  vowels_list = [i for i in x if i in vowels]\n",
        "  return vowels_list\n",
        "vowels = \"aeiouAEIOU\"\n",
        "x = input(\"Enter a string : \")\n",
        "\n",
        "vowels_list = count_vowels(x)\n",
        "\n",
        "print(f'Vowels in the string : {vowels_list} ')"
      ],
      "metadata": {
        "id": "__dgTKIua0XH",
        "colab": {
          "base_uri": "https://localhost:8080/"
        },
        "outputId": "bf583177-9ecf-47b1-82c4-a92822751bf1"
      },
      "execution_count": null,
      "outputs": [
        {
          "output_type": "stream",
          "name": "stdout",
          "text": [
            "Enter a string : My Name Is Mohd Afjal Khan\n",
            "Vowels in the string : ['a', 'e', 'I', 'o', 'A', 'a', 'a'] \n"
          ]
        }
      ]
    },
    {
      "cell_type": "code",
      "source": [
        "# 30.  Create a program that removes all non_numeric characters from a list of strings using list comprehension.\n",
        "\n",
        "def non_numeric_char (string):\n",
        "  non_numerc =(\" \".join([ i for i in string if i.isdigit()]))\n",
        "  return non_numerc\n",
        "\n",
        "string = input (\"Enter a string : \")\n",
        "\n",
        "non_numeric_char(string)"
      ],
      "metadata": {
        "id": "KxJAdKQEa0Ub",
        "colab": {
          "base_uri": "https://localhost:8080/",
          "height": 52
        },
        "outputId": "b73d7d8e-d029-4832-cce1-1688053212fc"
      },
      "execution_count": 16,
      "outputs": [
        {
          "name": "stdout",
          "output_type": "stream",
          "text": [
            "Enter a string : mfjalkhan@123kjui234';./,][!@#$\n"
          ]
        },
        {
          "output_type": "execute_result",
          "data": {
            "text/plain": [
              "'1 2 3 2 3 4'"
            ],
            "application/vnd.google.colaboratory.intrinsic+json": {
              "type": "string"
            }
          },
          "metadata": {},
          "execution_count": 16
        }
      ]
    },
    {
      "cell_type": "code",
      "source": [
        "# join = join() ka kaam hai strings ko ek saath jodna  Ye ek string method hai jo ek list ya iterable (jaise list, tuple, etc.) ke elements ko ek single string mein combine kar deta hai.\n",
        "\n",
        "words = [\"Hello\", \"World\", \"Python\"]\n",
        "result = \" \".join(words)\n",
        "print(result)"
      ],
      "metadata": {
        "colab": {
          "base_uri": "https://localhost:8080/"
        },
        "id": "xmJ3YRPzfGor",
        "outputId": "637ca2db-8153-43c6-a783-75cacff666e4"
      },
      "execution_count": 18,
      "outputs": [
        {
          "output_type": "stream",
          "name": "stdout",
          "text": [
            "Hello World Python\n"
          ]
        }
      ]
    },
    {
      "cell_type": "code",
      "source": [
        "# isdigit() ek string method hai jo check karta hai ki koi character ya string sirf digits (0-9) se bana hai ya nahi. Agar haan, toh ye True return karta hai, aur agar nahi, toh False return karta hai.\n",
        "\n",
        "print(\"123\".isdigit())\n",
        "print(\"12a\".isdigit())"
      ],
      "metadata": {
        "colab": {
          "base_uri": "https://localhost:8080/"
        },
        "id": "uTU9KNx9fGj1",
        "outputId": "29c77c78-3bcf-45f1-bd84-dc48aa7df829"
      },
      "execution_count": 19,
      "outputs": [
        {
          "output_type": "stream",
          "name": "stdout",
          "text": [
            "True\n",
            "False\n"
          ]
        }
      ]
    },
    {
      "cell_type": "markdown",
      "source": [
        "# BASIC IF-ELSE **STATMENT**"
      ],
      "metadata": {
        "id": "yDrFNN2vbZp4"
      }
    },
    {
      "cell_type": "code",
      "source": [
        "# 1. write a python program to check if a given number is positive or negative.\n",
        "\n",
        "number = int(input(\"Enter a number : \"))\n",
        "\n",
        "if number > 0 :\n",
        "  print(\"positive number\")\n",
        "elif number == 0:\n",
        "  print (\"Zero\")\n",
        "else:\n",
        "  print(\"Negative number\")"
      ],
      "metadata": {
        "colab": {
          "base_uri": "https://localhost:8080/"
        },
        "id": "_g8Bqp7HbmqS",
        "outputId": "84cc970e-82a7-4413-9c83-9e59eef81a92"
      },
      "execution_count": null,
      "outputs": [
        {
          "output_type": "stream",
          "name": "stdout",
          "text": [
            "Enter a number : -6\n",
            "Negative number\n"
          ]
        }
      ]
    },
    {
      "cell_type": "code",
      "source": [
        "# 2. create a program that determines if a person is eligible to vote based on their age.\n",
        "\n",
        "age = int(input(\"Enter a age : \"))\n",
        "\n",
        "if age >= 18:\n",
        "  print(f'{age} eligible for vote')\n",
        "else:\n",
        "  print(f'{age} not eligible for vote')"
      ],
      "metadata": {
        "colab": {
          "base_uri": "https://localhost:8080/"
        },
        "id": "a29ngssHc2RE",
        "outputId": "a189f36e-e4b5-4e4e-a7a6-faa67d1c3549"
      },
      "execution_count": null,
      "outputs": [
        {
          "output_type": "stream",
          "name": "stdout",
          "text": [
            "Enter a age : 55\n",
            "55 eligible for vote\n"
          ]
        }
      ]
    },
    {
      "cell_type": "code",
      "source": [
        "# 3. Develop a program to find the maximum of two number using if else statment.\n",
        "5\n",
        "x = int(input(\"Enter a first number : \"))\n",
        "y = int(input (\"Enter a secound number : \"))\n",
        "if x > y :\n",
        "  print((f\"The maximum of {x} and {y} is: {x}\"))\n",
        "elif x==y:\n",
        "  print(\"X and Y both are equle \")\n",
        "else:\n",
        "  print(f\"The maximum of {x} and {y} is: {y}\")"
      ],
      "metadata": {
        "colab": {
          "base_uri": "https://localhost:8080/"
        },
        "id": "MU4SmQ1weAJ9",
        "outputId": "968a6976-66bc-40a8-e7ef-c08bdad774d9"
      },
      "execution_count": null,
      "outputs": [
        {
          "output_type": "stream",
          "name": "stdout",
          "text": [
            "Enter a first number : -5\n",
            "Enter a secound number : -9\n",
            "The maximum of -5 and -9 is: -5\n"
          ]
        }
      ]
    },
    {
      "cell_type": "code",
      "source": [
        "# 4 . Write a python script to classify a given year as a leap year or not.\n",
        "year = int(input(\"Enter a year : \"))\n",
        "\n",
        "if (year%4 == 0 and year % 100 != 0) or year%400 == 0 :\n",
        "  print(f'{year} are leap year ')\n",
        "else:\n",
        "  print(f'{year} are not leap year')"
      ],
      "metadata": {
        "colab": {
          "base_uri": "https://localhost:8080/"
        },
        "id": "HPtlnyYNgIwg",
        "outputId": "fcb2690e-753e-458e-e55e-ef4586d0238c"
      },
      "execution_count": null,
      "outputs": [
        {
          "output_type": "stream",
          "name": "stdout",
          "text": [
            "Enter a year : 1900\n",
            "1900 are not leap year\n"
          ]
        }
      ]
    },
    {
      "cell_type": "code",
      "source": [
        "# 5. create a program that check whether a character is a vowel or a consonant]\n",
        "def check_vow_con (n):\n",
        "  if n in  ['a','e','i','o','u','A','E','I','O','U']:\n",
        "      return (f'{n} this character is vowel :')\n",
        "  else:\n",
        "    return(f'{n} this character is consonant :')\n",
        "\n",
        "# n = input(\"Enter a character :\")"
      ],
      "metadata": {
        "id": "XIOreYPDjuH_"
      },
      "execution_count": null,
      "outputs": []
    },
    {
      "cell_type": "code",
      "source": [
        "check_vow_con('a')"
      ],
      "metadata": {
        "colab": {
          "base_uri": "https://localhost:8080/",
          "height": 35
        },
        "id": "CQMEwntfmDKp",
        "outputId": "ec9229c2-a53e-4f7b-ae49-1f592e99b4fa"
      },
      "execution_count": null,
      "outputs": [
        {
          "output_type": "execute_result",
          "data": {
            "text/plain": [
              "'a this character is vowel :'"
            ],
            "application/vnd.google.colaboratory.intrinsic+json": {
              "type": "string"
            }
          },
          "metadata": {},
          "execution_count": 33
        }
      ]
    }
  ]
}